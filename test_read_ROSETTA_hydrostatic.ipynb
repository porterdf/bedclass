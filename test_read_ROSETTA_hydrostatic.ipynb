{
 "cells": [
  {
   "cell_type": "code",
   "execution_count": 1,
   "id": "41c602f8",
   "metadata": {},
   "outputs": [
    {
     "name": "stderr",
     "output_type": "stream",
     "text": [
      "/Users/dporter/opt/anaconda3/envs/bedclass/lib/python3.9/site-packages/xarray/backends/cfgrib_.py:27: UserWarning: Failed to load cfgrib - most likely there is a problem accessing the ecCodes library. Try `import cfgrib` to get the full error message\n",
      "  warnings.warn(\n"
     ]
    }
   ],
   "source": [
    "import os\n",
    "import sys\n",
    "import numpy as np\n",
    "# import numpy.ma as ma\n",
    "import matplotlib.pyplot as plt\n",
    "import matplotlib.colors as colors\n",
    "import pandas as pd\n",
    "# import cmocean\n",
    "import xarray as xr\n",
    "import seaborn as sns\n",
    "\n",
    "import rasterio\n",
    "def print_raster(raster):\n",
    "    print(\n",
    "        f\"shape: {raster.shape}\\n\"\n",
    "#         f\"resolution: {raster.resolution()}\\n\"\n",
    "        f\"bounds: {raster.bounds}\\n\"\n",
    "#         f\"sum: {raster.sum().item()}\\n\"\n",
    "        f\"CRS: {raster.crs}\\n\"\n",
    "    )"
   ]
  },
  {
   "cell_type": "code",
   "execution_count": 2,
   "id": "4b3b586a",
   "metadata": {},
   "outputs": [],
   "source": [
    "# Determine where to look #\n",
    "basedir = '/Users/dporter/data/'\n",
    "# basedir = 'data'\n",
    "# basedir = '/Users/dporter/Documents/Research/Projects/bedclass/data'\n",
    "\n",
    "datadir = 'Antarctic/ROSETTA/for_COMBINED/'"
   ]
  },
  {
   "cell_type": "code",
   "execution_count": 3,
   "id": "b9318f82",
   "metadata": {},
   "outputs": [
    {
     "name": "stdout",
     "output_type": "stream",
     "text": [
      "/Users/dporter/data/Antarctic/ROSETTA/for_COMBINED/rosetta_combined.csv\n"
     ]
    }
   ],
   "source": [
    "suffix = '.csv'\n",
    "datafile = 'rosetta_combined'\n",
    "\n",
    "infile = os.path.join(basedir, datadir, datafile + suffix)\n",
    "print(infile)"
   ]
  },
  {
   "cell_type": "code",
   "execution_count": 4,
   "id": "e7159ef2",
   "metadata": {},
   "outputs": [
    {
     "data": {
      "text/html": [
       "<div>\n",
       "<style scoped>\n",
       "    .dataframe tbody tr th:only-of-type {\n",
       "        vertical-align: middle;\n",
       "    }\n",
       "\n",
       "    .dataframe tbody tr th {\n",
       "        vertical-align: top;\n",
       "    }\n",
       "\n",
       "    .dataframe thead th {\n",
       "        text-align: right;\n",
       "    }\n",
       "</style>\n",
       "<table border=\"1\" class=\"dataframe\">\n",
       "  <thead>\n",
       "    <tr style=\"text-align: right;\">\n",
       "      <th></th>\n",
       "      <th>Line</th>\n",
       "      <th>X_EPSG_3031</th>\n",
       "      <th>Y_EPSG_3031</th>\n",
       "      <th>unixtime</th>\n",
       "      <th>thickness_dice</th>\n",
       "      <th>rosetta_lidar</th>\n",
       "      <th>rosetta_lidar_wrtgeo</th>\n",
       "      <th>rosetta_lidar_thickness</th>\n",
       "      <th>diff_diceltthick_rsaltthick</th>\n",
       "      <th>dice_thick_bedmapthick</th>\n",
       "    </tr>\n",
       "  </thead>\n",
       "  <tbody>\n",
       "    <tr>\n",
       "      <th>0</th>\n",
       "      <td>L20</td>\n",
       "      <td>-178255.739629</td>\n",
       "      <td>-460417.119902</td>\n",
       "      <td>1.480723e+09</td>\n",
       "      <td>NaN</td>\n",
       "      <td>166.500472</td>\n",
       "      <td>203.484556</td>\n",
       "      <td>1851.169232</td>\n",
       "      <td>NaN</td>\n",
       "      <td>NaN</td>\n",
       "    </tr>\n",
       "    <tr>\n",
       "      <th>1</th>\n",
       "      <td>L20</td>\n",
       "      <td>-178346.076341</td>\n",
       "      <td>-460417.397744</td>\n",
       "      <td>1.480723e+09</td>\n",
       "      <td>NaN</td>\n",
       "      <td>166.328215</td>\n",
       "      <td>203.316570</td>\n",
       "      <td>1849.641012</td>\n",
       "      <td>NaN</td>\n",
       "      <td>NaN</td>\n",
       "    </tr>\n",
       "    <tr>\n",
       "      <th>2</th>\n",
       "      <td>L20</td>\n",
       "      <td>-178436.480663</td>\n",
       "      <td>-460417.972846</td>\n",
       "      <td>1.480723e+09</td>\n",
       "      <td>NaN</td>\n",
       "      <td>166.155938</td>\n",
       "      <td>203.148576</td>\n",
       "      <td>1848.112705</td>\n",
       "      <td>NaN</td>\n",
       "      <td>NaN</td>\n",
       "    </tr>\n",
       "    <tr>\n",
       "      <th>3</th>\n",
       "      <td>L20</td>\n",
       "      <td>-178526.896118</td>\n",
       "      <td>-460418.579014</td>\n",
       "      <td>1.480723e+09</td>\n",
       "      <td>NaN</td>\n",
       "      <td>165.983822</td>\n",
       "      <td>202.980743</td>\n",
       "      <td>1846.585878</td>\n",
       "      <td>NaN</td>\n",
       "      <td>NaN</td>\n",
       "    </tr>\n",
       "    <tr>\n",
       "      <th>4</th>\n",
       "      <td>L20</td>\n",
       "      <td>-178617.232081</td>\n",
       "      <td>-460419.255438</td>\n",
       "      <td>1.480723e+09</td>\n",
       "      <td>NaN</td>\n",
       "      <td>165.812069</td>\n",
       "      <td>202.813272</td>\n",
       "      <td>1845.062336</td>\n",
       "      <td>NaN</td>\n",
       "      <td>NaN</td>\n",
       "    </tr>\n",
       "    <tr>\n",
       "      <th>...</th>\n",
       "      <td>...</td>\n",
       "      <td>...</td>\n",
       "      <td>...</td>\n",
       "      <td>...</td>\n",
       "      <td>...</td>\n",
       "      <td>...</td>\n",
       "      <td>...</td>\n",
       "      <td>...</td>\n",
       "      <td>...</td>\n",
       "      <td>...</td>\n",
       "    </tr>\n",
       "    <tr>\n",
       "      <th>646972</th>\n",
       "      <td>T1140</td>\n",
       "      <td>331761.487504</td>\n",
       "      <td>-962391.639624</td>\n",
       "      <td>1.448396e+09</td>\n",
       "      <td>NaN</td>\n",
       "      <td>114.846254</td>\n",
       "      <td>162.627720</td>\n",
       "      <td>1479.480494</td>\n",
       "      <td>NaN</td>\n",
       "      <td>NaN</td>\n",
       "    </tr>\n",
       "    <tr>\n",
       "      <th>646973</th>\n",
       "      <td>T1140</td>\n",
       "      <td>331761.575345</td>\n",
       "      <td>-962295.965842</td>\n",
       "      <td>1.448396e+09</td>\n",
       "      <td>NaN</td>\n",
       "      <td>121.094440</td>\n",
       "      <td>168.872927</td>\n",
       "      <td>1536.295304</td>\n",
       "      <td>NaN</td>\n",
       "      <td>NaN</td>\n",
       "    </tr>\n",
       "    <tr>\n",
       "      <th>646974</th>\n",
       "      <td>T1140</td>\n",
       "      <td>331761.616047</td>\n",
       "      <td>-962200.289242</td>\n",
       "      <td>1.448396e+09</td>\n",
       "      <td>NaN</td>\n",
       "      <td>127.342182</td>\n",
       "      <td>175.117692</td>\n",
       "      <td>1593.106081</td>\n",
       "      <td>NaN</td>\n",
       "      <td>NaN</td>\n",
       "    </tr>\n",
       "    <tr>\n",
       "      <th>646975</th>\n",
       "      <td>T1140</td>\n",
       "      <td>331761.623322</td>\n",
       "      <td>-962104.611879</td>\n",
       "      <td>1.448396e+09</td>\n",
       "      <td>NaN</td>\n",
       "      <td>133.589404</td>\n",
       "      <td>181.361937</td>\n",
       "      <td>1649.912134</td>\n",
       "      <td>NaN</td>\n",
       "      <td>NaN</td>\n",
       "    </tr>\n",
       "    <tr>\n",
       "      <th>646976</th>\n",
       "      <td>T1140</td>\n",
       "      <td>331761.611174</td>\n",
       "      <td>-962008.931391</td>\n",
       "      <td>1.448396e+09</td>\n",
       "      <td>NaN</td>\n",
       "      <td>139.836413</td>\n",
       "      <td>187.605971</td>\n",
       "      <td>1706.716263</td>\n",
       "      <td>NaN</td>\n",
       "      <td>NaN</td>\n",
       "    </tr>\n",
       "  </tbody>\n",
       "</table>\n",
       "<p>646977 rows × 10 columns</p>\n",
       "</div>"
      ],
      "text/plain": [
       "         Line    X_EPSG_3031    Y_EPSG_3031      unixtime  thickness_dice  \\\n",
       "0         L20 -178255.739629 -460417.119902  1.480723e+09             NaN   \n",
       "1         L20 -178346.076341 -460417.397744  1.480723e+09             NaN   \n",
       "2         L20 -178436.480663 -460417.972846  1.480723e+09             NaN   \n",
       "3         L20 -178526.896118 -460418.579014  1.480723e+09             NaN   \n",
       "4         L20 -178617.232081 -460419.255438  1.480723e+09             NaN   \n",
       "...       ...            ...            ...           ...             ...   \n",
       "646972  T1140  331761.487504 -962391.639624  1.448396e+09             NaN   \n",
       "646973  T1140  331761.575345 -962295.965842  1.448396e+09             NaN   \n",
       "646974  T1140  331761.616047 -962200.289242  1.448396e+09             NaN   \n",
       "646975  T1140  331761.623322 -962104.611879  1.448396e+09             NaN   \n",
       "646976  T1140  331761.611174 -962008.931391  1.448396e+09             NaN   \n",
       "\n",
       "        rosetta_lidar  rosetta_lidar_wrtgeo  rosetta_lidar_thickness  \\\n",
       "0          166.500472            203.484556              1851.169232   \n",
       "1          166.328215            203.316570              1849.641012   \n",
       "2          166.155938            203.148576              1848.112705   \n",
       "3          165.983822            202.980743              1846.585878   \n",
       "4          165.812069            202.813272              1845.062336   \n",
       "...               ...                   ...                      ...   \n",
       "646972     114.846254            162.627720              1479.480494   \n",
       "646973     121.094440            168.872927              1536.295304   \n",
       "646974     127.342182            175.117692              1593.106081   \n",
       "646975     133.589404            181.361937              1649.912134   \n",
       "646976     139.836413            187.605971              1706.716263   \n",
       "\n",
       "        diff_diceltthick_rsaltthick  dice_thick_bedmapthick  \n",
       "0                               NaN                     NaN  \n",
       "1                               NaN                     NaN  \n",
       "2                               NaN                     NaN  \n",
       "3                               NaN                     NaN  \n",
       "4                               NaN                     NaN  \n",
       "...                             ...                     ...  \n",
       "646972                          NaN                     NaN  \n",
       "646973                          NaN                     NaN  \n",
       "646974                          NaN                     NaN  \n",
       "646975                          NaN                     NaN  \n",
       "646976                          NaN                     NaN  \n",
       "\n",
       "[646977 rows x 10 columns]"
      ]
     },
     "execution_count": 4,
     "metadata": {},
     "output_type": "execute_result"
    }
   ],
   "source": [
    "df = pd.read_csv(infile)\n",
    "df"
   ]
  },
  {
   "cell_type": "code",
   "execution_count": null,
   "id": "e600c8ab",
   "metadata": {},
   "outputs": [],
   "source": [
    "print(df.info())\n",
    "print (df['Line'].unique())"
   ]
  },
  {
   "cell_type": "code",
   "execution_count": null,
   "id": "6bfeb30b",
   "metadata": {},
   "outputs": [],
   "source": [
    "plt.scatter(df.X_EPSG_3031, df.Y_EPSG_3031, c=df.thickness_dice)\n"
   ]
  },
  {
   "cell_type": "code",
   "execution_count": null,
   "id": "96ffec47",
   "metadata": {},
   "outputs": [],
   "source": [
    "# ln20 = df.where(df.Line == 'L20')\n",
    "\n",
    "line = df.query('Line == \"L780\"')\n",
    "line"
   ]
  },
  {
   "cell_type": "code",
   "execution_count": null,
   "id": "60192246",
   "metadata": {},
   "outputs": [],
   "source": [
    "## fix PROJ path\n",
    "import pyproj\n",
    "\n",
    "projpath = sys.prefix + '/share/proj'\n",
    "pyproj.datadir.set_data_dir(projpath)"
   ]
  },
  {
   "cell_type": "code",
   "execution_count": null,
   "id": "1327f653",
   "metadata": {},
   "outputs": [],
   "source": [
    "# from osgeo import ogr\n",
    "import geopandas as gpd\n",
    "# import shapefile as shp\n",
    "\n",
    "# data/ASE_catchments_matchGL.geojson\n",
    "# data/ASE_GroundingLine_simple.geojson\n",
    "\n",
    "outlines = 'data/ASE_catchments+GL_3031.shp'\n",
    "\n",
    "shapefile = gpd.read_file(outlines)\n",
    "\n",
    "shapefile.head()"
   ]
  },
  {
   "cell_type": "code",
   "execution_count": null,
   "id": "3c2d4909",
   "metadata": {},
   "outputs": [],
   "source": [
    "from matplotlib.colors import ListedColormap\n",
    "\n",
    "cmap = np.zeros([256, 4])\n",
    "cmap[:, 3] = np.linspace(0, 1, 256)\n",
    "cmap = ListedColormap(cmap)"
   ]
  },
  {
   "cell_type": "code",
   "execution_count": null,
   "id": "56f6450b",
   "metadata": {},
   "outputs": [],
   "source": [
    "fig, ax = plt.subplots(dpi=144)  # figsize=(8, 8), \n",
    "ax.set_aspect('equal')\n",
    "\n",
    "shapefile.boundary.plot(ax=ax, edgecolor='black')\n",
    "\n",
    "plt.scatter(df.X_EPSG_3031, df.Y_EPSG_3031, c=df.thickness_dice,\n",
    "            vmin=60, vmax=600,\n",
    "            marker='.',\n",
    "            cmap=\"Spectral_r\")\n",
    "plt.colorbar(label=\"thickness_dice (m)\")\n",
    "\n",
    "# plt.scatter(df_ASE.X, df_ASE.Y, c=y_pred_ASE, \n",
    "#             marker='.',\n",
    "#             cmap=cmap, edgecolors=None)\n",
    "plt.scatter(line.X_EPSG_3031[::500], line.Y_EPSG_3031[::500], \n",
    "            c='black',\n",
    "            marker='.',\n",
    "            cmap=cmap, edgecolors=None,\n",
    "            )\n",
    "\n",
    "plt.xlim(-0.8e6, 0.5e6)\n",
    "plt.ylim(-1.5e6, -0.4e6)\n",
    "\n",
    "# plt.savefig('figs/mapplot_ASE_ypred_antgg.png')\n"
   ]
  },
  {
   "cell_type": "code",
   "execution_count": null,
   "id": "6aa02e70",
   "metadata": {},
   "outputs": [],
   "source": []
  },
  {
   "cell_type": "code",
   "execution_count": null,
   "id": "48cd72be",
   "metadata": {},
   "outputs": [],
   "source": [
    "# ln20['datetime'] = \n",
    "line.index = pd.to_datetime(line[\"unixtime\"], unit='s')\n",
    "line.tail()"
   ]
  },
  {
   "cell_type": "code",
   "execution_count": null,
   "id": "04495d71",
   "metadata": {
    "scrolled": true
   },
   "outputs": [],
   "source": [
    "\n",
    "line[['thickness_dice', 'rosetta_lidar_thickness', 'dice_thick_bedmapthick']].plot()\n",
    "plt.ylim([-200, 700])\n",
    "# plt.xlim(pd.Timestamp('2015-12-02 11:10:00'), pd.Timestamp('2015-12-02 12:39:00'))\n"
   ]
  },
  {
   "cell_type": "markdown",
   "id": "96c642e8",
   "metadata": {},
   "source": [
    "### Sea level from LIDAR"
   ]
  },
  {
   "cell_type": "code",
   "execution_count": null,
   "id": "e7e9c788",
   "metadata": {},
   "outputs": [],
   "source": [
    "# ssh_lidar = gb.get_group('T1090').loc[13900:14100]['rosetta_lidar_wrtgeo'].mean()\n",
    "#     print(f\"Sea level is {ssh_lidar}m\")"
   ]
  },
  {
   "cell_type": "code",
   "execution_count": null,
   "id": "a2cb90ca",
   "metadata": {
    "scrolled": true
   },
   "outputs": [],
   "source": [
    "line[['rosetta_lidar', 'rosetta_lidar_wrtgeo']].plot()\n",
    "plt.xlim(pd.Timestamp('2015-12-02 10:30:00'), pd.Timestamp('2015-12-02 11:15:00'))"
   ]
  },
  {
   "cell_type": "code",
   "execution_count": null,
   "id": "2ead397c",
   "metadata": {},
   "outputs": [],
   "source": [
    "start_openwater = '2015-12-02 10:45:00'\n",
    "end_openwater = '2015-12-02 11:00:00'\n",
    "\n",
    "start_channel = '2015-12-02 11:20:00'\n",
    "end_channel = '2015-12-02 11:25:00'"
   ]
  },
  {
   "cell_type": "code",
   "execution_count": null,
   "id": "7edbe5a9",
   "metadata": {},
   "outputs": [],
   "source": [
    "ssh_lidar = line.loc[start_openwater:end_openwater]['rosetta_lidar'].mean()\n",
    "# print(line.between_time(pd.Timestamp('2015-12-02 10:10:00'), pd.Timestamp('2015-12-02 11:39:00'))['rosetta_lidar'].mean())\n",
    "\n",
    "print(line.loc[start_openwater:end_openwater]['rosetta_lidar_wrtgeo'].mean())\n",
    "print(f\"Sea level is {ssh_lidar:.3f}m\")"
   ]
  },
  {
   "cell_type": "code",
   "execution_count": null,
   "id": "b02d0d41",
   "metadata": {
    "scrolled": true
   },
   "outputs": [],
   "source": [
    "line['rosetta_lidar_wrtssh'] = line['rosetta_lidar'] - ssh_lidar\n"
   ]
  },
  {
   "cell_type": "code",
   "execution_count": null,
   "id": "8ea87848",
   "metadata": {},
   "outputs": [],
   "source": [
    "(line['rosetta_lidar_wrtssh'] - line['rosetta_lidar_wrtgeo']).plot()\n",
    "plt.title('Icesurface difference using SSH_lidar and geoid')\n",
    "plt.ylabel('Icesurface Diff [m]')"
   ]
  },
  {
   "cell_type": "code",
   "execution_count": null,
   "id": "69de361b",
   "metadata": {},
   "outputs": [],
   "source": [
    "line.columns"
   ]
  },
  {
   "cell_type": "code",
   "execution_count": null,
   "id": "1d7e546c",
   "metadata": {},
   "outputs": [],
   "source": [
    "line['icebase_dice'] = line['rosetta_lidar'] - line['thickness_dice']\n"
   ]
  },
  {
   "cell_type": "code",
   "execution_count": null,
   "id": "0bb094a1",
   "metadata": {},
   "outputs": [],
   "source": [
    "fig, ax = plt.subplots(figsize=(10, 4), dpi=80)\n",
    "\n",
    "ax.plot(line['X_EPSG_3031'], line['rosetta_lidar'], label='Surface (lidar)', color='orange')\n",
    "ax.tick_params(axis='y', labelcolor='orange')\n",
    "ax.set_ylabel('DICE Thick [Pa s m-1]', color='orange', fontsize=16)\n",
    "ax.set_xlabel('EPSG  [East]', color='black', fontsize=16)\n",
    "# add_basin_locs()\n",
    "\n",
    "ax.plot(line['X_EPSG_3031'], line['icebase_dice'], color='cornflowerblue', \n",
    "        label='Icebase (DICE)', ls='-', marker='')\n",
    "# ax.tick_params(axis='y', labelcolor='cornflowerblue')\n",
    "# ax.set_ylabel('Icebase DICE', color='cornflowerblue', fontsize=16)\n",
    "\n",
    "\n",
    "# ax4 = ax.twinx()\n",
    "# ax4.plot(df['Dist'].loc[df['water'] >= 0.1]/1e3, df['water'].loc[df['water'] >= 0.1], color='green', ls='', marker='*')\n",
    "# ax4.tick_params(axis='y', labelcolor='green')\n",
    "# ax4.set_ylabel('Water', color='green', fontsize=16)\n",
    "# ax4.spines['right'].set_position(('axes', 1.2))\n",
    "\n",
    "plt.ylim([-400, 50])\n",
    "# plt.xlim(pd.Timestamp('2015-12-02 11:10:00'), pd.Timestamp('2015-12-02 12:39:00'))\n",
    "plt.legend()\n",
    "plt.tight_layout()\n",
    "# plt.savefig('figs/lineplot_UTG_sample_ClassBeta.png')"
   ]
  },
  {
   "cell_type": "code",
   "execution_count": null,
   "id": "be436d34",
   "metadata": {},
   "outputs": [],
   "source": [
    "fig, ax = plt.subplots(figsize=(10, 4), dpi=80)\n",
    "\n",
    "ax.plot(line['X_EPSG_3031']/1e3, line['rosetta_lidar_thickness'], color='orange')\n",
    "ax.tick_params(axis='y', labelcolor='orange')\n",
    "ax.set_ylabel('DICE Thick [Pa s m-1]', color='orange', fontsize=16)\n",
    "ax.set_xlabel('EPSG  [km]', color='black', fontsize=16)\n",
    "# add_basin_locs()\n",
    "\n",
    "ax3 = ax.twinx()\n",
    "ax3.plot(line['X_EPSG_3031']/1e3, line['rosetta_lidar_wrtgeo'], color='cornflowerblue', ls='', marker='x')\n",
    "ax3.tick_params(axis='y', labelcolor='cornflowerblue')\n",
    "ax3.set_ylabel('Icebase DICE', color='cornflowerblue', fontsize=16)\n",
    "\n",
    "# ax4 = ax.twinx()\n",
    "# ax4.plot(df['Dist'].loc[df['water'] >= 0.1]/1e3, df['water'].loc[df['water'] >= 0.1], color='green', ls='', marker='*')\n",
    "# ax4.tick_params(axis='y', labelcolor='green')\n",
    "# ax4.set_ylabel('Water', color='green', fontsize=16)\n",
    "# ax4.spines['right'].set_position(('axes', 1.2))\n",
    "\n",
    "\n",
    "plt.tight_layout()\n",
    "# plt.savefig('figs/lineplot_UTG_sample_ClassBeta.png')\n",
    "\n"
   ]
  },
  {
   "cell_type": "code",
   "execution_count": null,
   "id": "b6d0d70c",
   "metadata": {},
   "outputs": [],
   "source": []
  },
  {
   "cell_type": "markdown",
   "id": "18aa3318",
   "metadata": {},
   "source": [
    "## Impact of firn density assumptions on basal channel geometry"
   ]
  },
  {
   "cell_type": "code",
   "execution_count": null,
   "id": "6ee8b9a1",
   "metadata": {},
   "outputs": [],
   "source": [
    "line.columns"
   ]
  },
  {
   "cell_type": "code",
   "execution_count": null,
   "id": "c87c05e5",
   "metadata": {},
   "outputs": [],
   "source": [
    "# line['bedmap2_surface_wrtell_SHIFT'] = line['bedmap2_surface_wrtell'].shift(0)\n",
    "# print(line[['bedmap2_surface_wrtell_SHIFT', 'rosetta_lidar_wrtgeo']].corr())\n",
    "\n",
    "line[['thickness_dice',\n",
    "       'rosetta_lidar', 'rosetta_lidar_wrtgeo', 'rosetta_lidar_thickness',\n",
    "       'diff_diceltthick_rsaltthick', 'dice_thick_bedmapthick']].corr()"
   ]
  },
  {
   "cell_type": "code",
   "execution_count": null,
   "id": "ad281f5a",
   "metadata": {},
   "outputs": [],
   "source": [
    "## QAQC edit\n",
    "# df_sub['icebase_dice_edit'] = np.where(df['icebase_dice']>-500, df['icebase_dice'], df['icebase_dice']+300)\n",
    "\n",
    "# line['icebase_dice_edit'] = line['icebase_dice']\n",
    "# line['icebase_dice_edit'][line['icebase_dice']<-500] = line['icebase_dice'] + 284\n",
    "\n",
    "# line[['icebase_dice_edit', 'rosetta_lidar_wrtgeo']].plot()"
   ]
  },
  {
   "cell_type": "code",
   "execution_count": null,
   "id": "534fe1a1",
   "metadata": {},
   "outputs": [],
   "source": [
    "rho_water = 1.025\n",
    "rho_ice = 0.917\n",
    "rho_firn = 0.7\n",
    "# H_firn = 0 \n",
    "H_firn = 50\n",
    "H_ave = line.thickness_dice.mean()\n",
    "rho_ave = (rho_ice * (H_ave - H_firn)/H_ave) + (rho_firn * H_firn/H_ave)\n",
    "rho_ave"
   ]
  },
  {
   "cell_type": "code",
   "execution_count": null,
   "id": "a06bfa8b",
   "metadata": {},
   "outputs": [],
   "source": [
    "# =h_geoid/(1-(rho_ave/1.035))\n",
    "line['thickness_hydro'] = line['rosetta_lidar_wrtgeo']/(1-(rho_ave/rho_water))\n",
    "line['thickness_hydro'].plot()\n",
    "plt.ylim([0, 600])"
   ]
  },
  {
   "cell_type": "markdown",
   "id": "d9acad2d-cf08-4524-8e7e-b47472f55688",
   "metadata": {},
   "source": [
    "TODO: make this a function"
   ]
  },
  {
   "cell_type": "markdown",
   "id": "f4a3b910",
   "metadata": {},
   "source": [
    "### why `wrtgeo` though?"
   ]
  },
  {
   "cell_type": "code",
   "execution_count": null,
   "id": "c265f077",
   "metadata": {
    "scrolled": true
   },
   "outputs": [],
   "source": [
    "line['icebase_hydro'] = line['rosetta_lidar_wrtgeo'] - line['thickness_hydro']\n",
    "\n",
    "## plot\n",
    "line.plot(x='X_EPSG_3031', y = ['icebase_dice', 'rosetta_lidar_wrtgeo', 'icebase_hydro'])\n",
    "plt.ylim([-400, 60])\n",
    "plt.xlim([-3e5, 3e5])\n",
    "# plt.xlim(pd.Timestamp('2015-12-02 11:10:00'), pd.Timestamp('2015-12-02 12:39:00'))\n",
    "\n",
    "##\n",
    "# fig, ax = plt.subplots(figsize=(10, 4), dpi=80)\n",
    "\n",
    "# ax.plot(line['X_EPSG_3031'], line['rosetta_lidar'], label='Surface (lidar)', color='orange')\n",
    "# ax.tick_params(axis='y', labelcolor='orange')\n",
    "# ax.set_ylabel('DICE Thick [Pa s m-1]', color='orange', fontsize=16)\n",
    "# ax.set_xlabel('EPSG  [East]', color='black', fontsize=16)\n",
    "# # add_basin_locs()\n",
    "\n",
    "# ax.plot(line['X_EPSG_3031'], line['icebase_dice'], color='cornflowerblue', \n",
    "#         label='Icebase (DICE)', ls='-', marker='')\n",
    "# # ax.tick_params(axis='y', labelcolor='cornflowerblue')\n",
    "# # ax.set_ylabel('Icebase DICE', color='cornflowerblue', fontsize=16)\n",
    "\n",
    "# # ax4 = ax.twinx()\n",
    "# # ax4.plot(df['Dist'].loc[df['water'] >= 0.1]/1e3, df['water'].loc[df['water'] >= 0.1], color='green', ls='', marker='*')\n",
    "# # ax4.tick_params(axis='y', labelcolor='green')\n",
    "# # ax4.set_ylabel('Water', color='green', fontsize=16)\n",
    "# # ax4.spines['right'].set_position(('axes', 1.2))\n",
    "\n",
    "# plt.ylim([-400, 50])\n",
    "# plt.xlim(pd.Timestamp(start_channel), pd.Timestamp(end_channel))\n",
    "# plt.legend()\n",
    "# plt.tight_layout()\n",
    "# # plt.savefig('figs/lineplot_UTG_sample_ClassBeta.png')"
   ]
  },
  {
   "cell_type": "code",
   "execution_count": null,
   "id": "f7710f59",
   "metadata": {},
   "outputs": [],
   "source": [
    "# rema_file = '/Users/dporter/data/Antarctic/DEM/REMA/SETSM_WV01_20171016_102001006659B400_102001006CCF3100_seg1_2m_v1.0/SETSM_WV01_20171016_102001006659B400_102001006CCF3100_seg1_2m_v1.0_dem.tif'\n",
    "rema_file = '/Users/dporter/data/Antarctic/DEM/REMA/SETSM_WV01_20151130_1020010048BBA700_1020010048C54400_seg1_2m_v1.0/SETSM_WV01_20151130_1020010048BBA700_1020010048C54400_seg1_2m_v1.0_dem.tif'\n",
    "src = rasterio.open(rema_file)"
   ]
  },
  {
   "cell_type": "code",
   "execution_count": null,
   "id": "50a4533c",
   "metadata": {},
   "outputs": [],
   "source": [
    "print(src.name)\n",
    "print(src.mode)\n",
    "print(src.closed)\n",
    "print('\\n')\n",
    "print_raster(src)"
   ]
  },
  {
   "cell_type": "code",
   "execution_count": null,
   "id": "3a8f6d86",
   "metadata": {},
   "outputs": [],
   "source": [
    "for i, dtype, nodataval in zip(src.indexes, src.dtypes, src.nodatavals):\n",
    "    print(i, dtype, nodataval)"
   ]
  },
  {
   "cell_type": "markdown",
   "id": "a4a7b26a",
   "metadata": {},
   "source": [
    "### Convert dataframe to GeoDataFrame (geoPandas)"
   ]
  },
  {
   "cell_type": "code",
   "execution_count": null,
   "id": "45b76fad",
   "metadata": {},
   "outputs": [],
   "source": [
    "## 1\n",
    "# import geopandas as gpd\n",
    "# crs = {'init': 'epsg:3031'}\n",
    "# gdf = gpd.GeoDataFrame(line, crs=crs).set_geometry('geometry')\n",
    "\n",
    "## 1.2\n",
    "# from shapely import wkt\n",
    "\n",
    "# line['geometry'] = line['geometry'].apply(wkt.loads)\n",
    "# gdf = gpd.GeoDataFrame(line, crs='epsg:4326')\n",
    "\n",
    "\n",
    "## 2\n",
    "gdf = gpd.GeoDataFrame(\n",
    "    line, geometry=gpd.points_from_xy(line.X_EPSG_3031, line.Y_EPSG_3031)\n",
    ")"
   ]
  },
  {
   "cell_type": "code",
   "execution_count": null,
   "id": "4446a33b",
   "metadata": {},
   "outputs": [],
   "source": [
    "gdf.plot()"
   ]
  },
  {
   "cell_type": "code",
   "execution_count": null,
   "id": "5b421556",
   "metadata": {},
   "outputs": [],
   "source": [
    "from rasterio.plot import show\n",
    "\n",
    "## 1\n",
    "# show(src, \n",
    "#      interpolation='none', \n",
    "#      vmin=-20, vmax=-5,\n",
    "#      transform=src.transform,\n",
    "#      )\n",
    "\n",
    "## 2\n",
    "fig, ax = plt.subplots()\n",
    "\n",
    "# transform rasterio plot to real world coords\n",
    "extent=[src.bounds[0], src.bounds[2], src.bounds[1], src.bounds[3]]\n",
    "ax = rasterio.plot.show(src, extent=extent, ax=ax, \n",
    "                        interpolation='none', \n",
    "                        vmin=-20, vmax=-5, \n",
    "                        cmap='viridis',\n",
    "                       )\n",
    "\n",
    "gdf.loc[start_channel:end_channel].plot(ax=ax)\n",
    "\n"
   ]
  },
  {
   "cell_type": "code",
   "execution_count": null,
   "id": "2d0359c8",
   "metadata": {},
   "outputs": [],
   "source": [
    "from rasterio.plot import show_hist\n",
    "\n",
    "fig, (axrgb, axhist) = plt.subplots(1, 2, figsize=(14,7))\n",
    "\n",
    "show(src, \n",
    "     interpolation='none', \n",
    "     vmin=-20, vmax=-5,\n",
    "     transform=src.transform,\n",
    "     ax=axrgb,\n",
    "     )\n",
    "show_hist(\n",
    "    src, bins=50, lw=0.0, stacked=False, alpha=0.3,\n",
    "    histtype='stepfilled', title=\"Histogram\",\n",
    "    ax=axhist,\n",
    "    )\n",
    "plt.show()"
   ]
  },
  {
   "cell_type": "code",
   "execution_count": null,
   "id": "73d7f601",
   "metadata": {},
   "outputs": [],
   "source": []
  },
  {
   "cell_type": "code",
   "execution_count": null,
   "id": "6b640280",
   "metadata": {},
   "outputs": [],
   "source": [
    "coord_list = [(x,y) for x,y in zip(gdf['geometry'].x , gdf['geometry'].y)]"
   ]
  },
  {
   "cell_type": "code",
   "execution_count": null,
   "id": "9c3d8d2e",
   "metadata": {},
   "outputs": [],
   "source": [
    "coord_list[:5]"
   ]
  },
  {
   "cell_type": "code",
   "execution_count": null,
   "id": "72657760",
   "metadata": {},
   "outputs": [],
   "source": [
    "gdf['rema'] = [x[0] for x in src.sample(coord_list)]\n",
    "# print(gdf['rema'].head())"
   ]
  },
  {
   "cell_type": "code",
   "execution_count": null,
   "id": "a042202c-e5d5-46cb-b33b-ca13aefc28da",
   "metadata": {},
   "outputs": [],
   "source": [
    "# gdf.replace(-9999, pd.NA, inplace=True)\n",
    "gdf.loc[gdf['rema'] == -9999,'rema'] = np.nan\n",
    "\n",
    "gdf.describe()\n"
   ]
  },
  {
   "cell_type": "code",
   "execution_count": null,
   "id": "fde8c124-34af-4ffd-a66c-ac0e34841a9a",
   "metadata": {},
   "outputs": [],
   "source": [
    "# gdf['rema'].plot()\n",
    "gdf[['rosetta_lidar', 'rema']].plot()\n",
    "plt.xlim(pd.Timestamp(start_channel), pd.Timestamp(end_channel))\n",
    "plt.ylim([-12,-2])\n"
   ]
  },
  {
   "cell_type": "markdown",
   "id": "3cbb8aa9",
   "metadata": {},
   "source": [
    "### Appendix"
   ]
  },
  {
   "cell_type": "markdown",
   "id": "bd6c97bc",
   "metadata": {},
   "source": [
    "`grouby`"
   ]
  },
  {
   "cell_type": "code",
   "execution_count": null,
   "id": "f18655d2",
   "metadata": {},
   "outputs": [],
   "source": [
    "if Line == 'l790':\n",
    "    # gb.get_group('T1090').min()\n",
    "    gb.get_group('T1090').rosetta_lidar_wrtgeo.plot()\n",
    "    plt.xlim([13500, 14300])\n",
    "    plt.ylim([-5, 5])\n",
    "    ssh_lidar = gb.get_group('T1090').loc[13900:14100]['rosetta_lidar_wrtgeo'].mean()\n",
    "    print(f\"Sea level is {ssh_lidar}m\")"
   ]
  },
  {
   "cell_type": "code",
   "execution_count": null,
   "id": "84a3f609",
   "metadata": {},
   "outputs": [],
   "source": [
    "# df_sub['thickness_hydro_ave'] = df_sub['rosetta_lidar_wrtgeo']/(1-(rho_ave/1.035))\n",
    "# df_sub['thickness_hydro_ave_ssh'] = (df_sub['rosetta_lidar_wrtgeo']- ssh_lidar)/(1-(rho_ave/1.035))\n",
    "\n",
    "df_sub['icebase_hydro'] = df_sub['rosetta_lidar_wrtgeo'] - df_sub['rosetta_lidar_wrtgeo']/(1-(rho_ice/rho_water))\n",
    "df_sub['icebase_hydro_ssh'] = df_sub['rosetta_lidar_wrtgeo'] - (df_sub['rosetta_lidar_wrtgeo']- ssh_lidar)/(1-(rho_ice/rho_water))\n",
    "\n",
    "df_sub['icebase_hydro_firn'] = df_sub['rosetta_lidar_wrtgeo'] - df_sub['rosetta_lidar_wrtgeo']/(1-(rho_ave/rho_water))\n",
    "df_sub['icebase_hydro_firn_ssh'] = df_sub['rosetta_lidar_wrtgeo'] - (df_sub['rosetta_lidar_wrtgeo']- ssh_lidar)/(1-(rho_ave/rho_water))\n",
    "\n",
    "fig = plt.figure(dpi=150)\n",
    "df_sub.plot(x='X_EPSG_3031', \n",
    "            y=['rosetta_lidar_wrtgeo', 'icebase_dice_edit', 'icebase_hydro_firn', 'icebase_hydro'],\n",
    "           figsize=(4,7))\n",
    "plt.title(Line + r': 50m of 0.7$g cm^{-3}$ firn')\n",
    "plt.ylabel('m.a.s.l.')\n",
    "plt.legend([\"Surface - LIDAR\", \"Icebase - radar\", \"Hydrostatic (with firn)\", \"Hydrostatic (ice only)\"], \n",
    "           loc='upper center', \n",
    "           fontsize=10, \n",
    "           shadow=True, \n",
    "           bbox_to_anchor=(0.5, 0.83), \n",
    "           ncol=1,\n",
    "          );\n",
    "plt.xticks(rotation=45)\n",
    "plt.savefig(f'/Users/dporter/Google Drive (dporter@ldeo.columbia.edu)/Proposals_gdrive/NASA_ROSES_A15_2021/Figures/ROSETTA_{Line}_hydrotest_rho.png')\n",
    "\n",
    "\n",
    "# print(f\"Mean ice thickness diff when using real sea level (not just geoid) \\\n",
    "#       {(df_sub['thickness_hydro_ssh']-df_sub['thickness_hydro']).mean()}\")"
   ]
  }
 ],
 "metadata": {
  "kernelspec": {
   "display_name": "Python 3 (ipykernel)",
   "language": "python",
   "name": "python3"
  },
  "language_info": {
   "codemirror_mode": {
    "name": "ipython",
    "version": 3
   },
   "file_extension": ".py",
   "mimetype": "text/x-python",
   "name": "python",
   "nbconvert_exporter": "python",
   "pygments_lexer": "ipython3",
   "version": "3.9.7"
  },
  "toc-autonumbering": true,
  "toc-showcode": true,
  "toc-showmarkdowntxt": false,
  "toc-showtags": false
 },
 "nbformat": 4,
 "nbformat_minor": 5
}
